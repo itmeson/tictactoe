{
 "cells": [
  {
   "cell_type": "code",
   "execution_count": 1,
   "metadata": {},
   "outputs": [],
   "source": [
    "class Agent():\n",
    "    def __init__(self, piece='X', mover='human', playbook=None):\n",
    "        self.piece = piece\n",
    "        movers = {'human':self.human_move, 'random':self.random_move, \n",
    "                  'menace':self.menace_move}\n",
    "        updaters = {'human':self.dummy, 'random':self.dummy, 'menace':self.update_menace}\n",
    "        self.mover = movers[mover]\n",
    "        self.update = updaters[mover]\n",
    "        self.moveHistory = {}\n",
    "        self.human = mover=='human'\n",
    "        if not playbook:\n",
    "            self.playbook = {}\n",
    "        else:\n",
    "            self.playbook = playbook\n",
    "    \n",
    "    def dummy(self, win):\n",
    "        pass\n",
    "    \n",
    "    def human_move(self, positions):\n",
    "        move_num = sum([1 if x !='-' else 0 for x in positions])\n",
    "        move = input(\" \" + str(move_num + 1))\n",
    "        if move == 'Q':\n",
    "            self.quit()\n",
    "        else:\n",
    "            return move\n",
    "    \n",
    "    def menace_move(self, positions):\n",
    "        from random import choice\n",
    "        tup_positions = tuple(positions)\n",
    "        if tup_positions not in self.playbook:\n",
    "            move = self.random_move(positions)\n",
    "            return move\n",
    "        else:\n",
    "            move = choice(self.playbook[tup_positions])\n",
    "            return move\n",
    "    \n",
    "    def update_learner(self, win):\n",
    "        if not win:   #it was a tie\n",
    "            for position in self.moveHistory:\n",
    "                if position in self.playbook:\n",
    "                    self.playbook[position].extend([self.moveHistory[position]])\n",
    "                else:\n",
    "                    temp = [self.moveHistory[position]]\n",
    "                    not_filled = [i for i,x in enumerate(position) if x=='-']\n",
    "                    temp.extend(not_filled[1:])\n",
    "                    self.playbook[position] = temp\n",
    "                    \n",
    "        elif win[1] == self.piece: #it was a win, reinforce all the moves\n",
    "            for position in self.moveHistory:\n",
    "                if position in self.playbook:\n",
    "                    self.playbook[position].extend(3*[self.moveHistory[position]])\n",
    "                else:\n",
    "                    temp = 2*[self.moveHistory[position]]\n",
    "                    not_filled = [i for i,x in enumerate(position) if x=='-']\n",
    "                    temp.extend(not_filled[1:])\n",
    "                    self.playbook[position] = temp\n",
    "                    \n",
    "        elif win[1] != self.piece: #it was a loss, prune once\n",
    "            for position in self.moveHistory:\n",
    "                if position in self.playbook:\n",
    "                    if self.moveHistory[position] in self.playbook[position]:\n",
    "                        self.playbook[position].remove(self.moveHistory[position])\n",
    "                        if not self.playbook[position]:\n",
    "                            self.playbook.pop(position)\n",
    " \n",
    "    def random_move(self, positions):\n",
    "        from random import choice\n",
    "        not_filled = [i for i,x in enumerate(positions) if x == '-']\n",
    "        return choice(not_filled[1:])\n",
    "    \n",
    "    def quit(self):\n",
    "        import sys\n",
    "        print(self.piece, \" quits!\")\n",
    "        sys.exit()\n",
    "\n",
    "\n",
    "class Board():\n",
    "    def __init__(self, turtle=True, size=200):\n",
    "        self.positions = ['-']*10\n",
    "        self.turtle = turtle\n",
    "        if self.turtle:\n",
    "\n",
    "            self.size = size\n",
    "            self.squares = {1:[-size, size], 2:[0,size], 3:[size,size], \n",
    "                       4:[-size, 0], 5:[0,0], 6:[size,0],\n",
    "                       7:[-size,-size], 8:[0,-size], 9:[size, -size]}\n",
    "            \n",
    "    def turtle_display(self):\n",
    "        import turtle\n",
    "        import turtle_board\n",
    "        turtle.reset()\n",
    "        turtle.speed(0)\n",
    "        turtle_board.board(size=200)\n",
    "        \n",
    "        for i in range(1,10):\n",
    "            if self.positions[i] == 'X':\n",
    "                turtle_board.x(self.squares[i], self.size)\n",
    "            elif self.positions[i] == 'O':\n",
    "                turtle_board.o(self.squares[i], self.size/2)\n",
    "    \n",
    "    def display(self, humanAgent = True, turtle=True):\n",
    "        from os import system\n",
    "        from IPython.display import clear_output\n",
    "\n",
    "        system('clear')\n",
    "        clear_output()\n",
    "        for i in range(3):\n",
    "            print('\\t'.join(self.positions[1+i*3:1+i*3+3]))\n",
    "        if self.turtle:\n",
    "            self.turtle_display()\n",
    "\n",
    "    def update(self, move, piece):\n",
    "        # check for clashes\n",
    "        try:\n",
    "            move = int(move)\n",
    "            assert move >= 1 and move <= 9\n",
    "        except:\n",
    "            print(\"That was probably not a valid move, try again\")\n",
    "            return False\n",
    "        if self.positions[move] != '-':\n",
    "            print(\"That space is filled, you will have to submit another\")\n",
    "            return False\n",
    "        else:\n",
    "            self.positions[move] = piece\n",
    "            return True\n",
    "        \n",
    "    def is_win(self):\n",
    "        winners = ((1,2,3), (4,5,6), (7,8,9), (1,4,7), (2,5,8), (3,6,9), (1,5,9), (3,5,7))\n",
    "        for w in winners:\n",
    "            test3 = [self.positions[i] for i in w]\n",
    "            if test3[1] != '-' and test3.count(test3[1]) == 3:\n",
    "                return (True, test3[1])\n",
    "        return False\n",
    "       \n",
    "        \n",
    "class Game():\n",
    "    def __init__(self, board, x, o, watcher=False):\n",
    "        self.board = board\n",
    "        self.playerX = x\n",
    "        self.playerO = o\n",
    "        self.human = x.human or o.human\n",
    "        self.playerX.moveHistory = {}\n",
    "        self.playerO.moveHistory = {}\n",
    "        self.watcher = watcher    \n",
    "        \n",
    "    def play(self):\n",
    "        import time\n",
    "        turn = 1\n",
    "        if self.watcher:\n",
    "            time.sleep(1.5)\n",
    "            self.board.display()\n",
    "            \n",
    "        while turn < 10:    \n",
    "            if turn % 2 == 1:\n",
    "                move = self.playerX.mover(self.board.positions)\n",
    "                if self.board.update(move, self.playerX.piece):\n",
    "                    move = int(move)\n",
    "                    temp = self.board.positions[:]\n",
    "                    temp[move] = '-'\n",
    "                    self.playerX.moveHistory[tuple(temp)] = move\n",
    "                else:\n",
    "                    continue\n",
    "            else:\n",
    "                move = self.playerO.mover(self.board.positions)\n",
    "                if self.board.update(move, self.playerO.piece):\n",
    "                    move = int(move)\n",
    "                    temp = self.board.positions[:]\n",
    "                    temp[move] = '-'\n",
    "                    self.playerO.moveHistory[tuple(temp)] = move\n",
    "                else:\n",
    "                    continue           \n",
    "            \n",
    "            self.win = self.board.is_win()\n",
    "            if self.watcher:\n",
    "                time.sleep(1.5)\n",
    "                self.board.display()\n",
    "            if self.win:\n",
    "                break\n",
    "            turn += 1\n",
    "        \n",
    "        if self.watcher:\n",
    "            if not self.win:\n",
    "                print(\"It was a tie\")\n",
    "            else:\n",
    "                print(self.win[1], \" wins!!\")\n",
    "\n",
    "        self.playerX.update(self.win)\n",
    "        self.playerO.update(self.win)\n",
    "        \n",
    "        if self.watcher:\n",
    "            time.sleep(1.5)\n",
    "            \n",
    "\n",
    "class Experiment():\n",
    "    def __init__(self, X, O, trials, logname=None, watcher=False):\n",
    "        self.trials = trials\n",
    "        self.playerX = X\n",
    "        self.playerO = O\n",
    "        self.xwins = 0\n",
    "        self.owins = 0\n",
    "        self.ties = 0\n",
    "        self.logname = logname\n",
    "        self.watcher = watcher\n",
    "\n",
    "    def logging(self):\n",
    "        import os\n",
    "        gp = self.xwins + self.owins + self.ties\n",
    "        self.file.write(str(self.xwins/gp) + ',' + str(self.owins/gp) + ',' \n",
    "                + str(self.ties/gp) + ',' + str(len(self.playerX.playbook.keys())) \n",
    "                + ',' + str(len(self.playerO.playbook.keys())) + '\\n')\n",
    "        self.file.flush()\n",
    "        os.fsync(self.file.fileno())\n",
    "        \n",
    "    def one_game(self):\n",
    "        b = Board()\n",
    "        g = Game(b, self.playerX, self.playerO, watcher=self.watcher)\n",
    "        g.play()\n",
    "        if not g.win:\n",
    "            self.ties += 1\n",
    "        elif g.win[1] == 'X':\n",
    "            self.xwins += 1\n",
    "        elif g.win[1] == 'O':\n",
    "            self.owins += 1\n",
    "        if self.watcher:\n",
    "            print(\"X Wins:\\t\", self.xwins)\n",
    "            print(\"O Wins:\\t\", self.owins) \n",
    "            print(\"Ties:\\t\", self.ties)\n",
    "        \n",
    "    def runExperiment(self):\n",
    "        if self.logname:\n",
    "            self.file = open(self.logname, 'a', buffering=1)\n",
    "        for i in range(self.trials):\n",
    "            self.one_game()\n",
    "            if self.logname:\n",
    "                self.logging()\n",
    "        if self.logname:\n",
    "            self.file.close()\n",
    "\n",
    "        "
   ]
  },
  {
   "cell_type": "markdown",
   "metadata": {},
   "source": [
    "## 0. Train X and O bots from scratch\n",
    "\n",
    "![title](training.png)"
   ]
  },
  {
   "cell_type": "code",
   "execution_count": 2,
   "metadata": {},
   "outputs": [],
   "source": [
    "\n",
    "x_menace = Agent(piece='X', mover='menace')\n",
    "o_menace = Agent(piece='O', mover='menace')\n",
    "E1 = Experiment(x_menace, o_menace, 100000, watcher=False, logname='tmp.txt')\n",
    "E1.runExperiment()\n"
   ]
  },
  {
   "cell_type": "markdown",
   "metadata": {},
   "source": [
    "## 1. Do more training for the X and O bots"
   ]
  },
  {
   "cell_type": "code",
   "execution_count": null,
   "metadata": {},
   "outputs": [],
   "source": [
    "E2 = Experiment(x_menace, o_menace, 100000, watcher=False, logname='tmp.txt')\n",
    "E2.runExperiment()"
   ]
  },
  {
   "cell_type": "markdown",
   "metadata": {},
   "source": [
    "## 2.  Play human X vs. trained O bot"
   ]
  },
  {
   "cell_type": "code",
   "execution_count": null,
   "metadata": {},
   "outputs": [],
   "source": [
    "me = Agent(piece='X', mover='human')\n",
    "E3 = Experiment(me, o_menace, 5, watcher=True, logname='humanvstrained.txt')\n",
    "E3.runExperiment()"
   ]
  },
  {
   "cell_type": "markdown",
   "metadata": {},
   "source": [
    "## 3. Play human vs. beginner bot"
   ]
  },
  {
   "cell_type": "code",
   "execution_count": null,
   "metadata": {},
   "outputs": [],
   "source": [
    "me = Agent(piece='X', mover='human')\n",
    "o_beginner = Agent(piece='O', mover='menace')\n",
    "E4 = Experiment(me, o_beginner, 5, watcher=True, logname='humanvsbeg.txt')\n",
    "E4.runExperiment()"
   ]
  },
  {
   "cell_type": "markdown",
   "metadata": {},
   "source": [
    "## 4. Watch beginner X bot learning against a trained O bot"
   ]
  },
  {
   "cell_type": "code",
   "execution_count": 3,
   "metadata": {},
   "outputs": [
    {
     "name": "stdout",
     "output_type": "stream",
     "text": [
      "-\tO\tO\n",
      "X\tX\tO\n",
      "X\tX\tO\n",
      "O  wins!!\n",
      "X Wins:\t 13\n",
      "O Wins:\t 23\n",
      "Ties:\t 14\n"
     ]
    }
   ],
   "source": [
    "x_beginner = Agent(piece='X', mover='menace')\n",
    "E5 = Experiment(x_beginner, o_menace, 50, watcher=True, logname='fromscratch.txt')\n",
    "E5.runExperiment()"
   ]
  },
  {
   "cell_type": "code",
   "execution_count": 3,
   "metadata": {},
   "outputs": [
    {
     "data": {
      "text/plain": [
       "967"
      ]
     },
     "execution_count": 3,
     "metadata": {},
     "output_type": "execute_result"
    }
   ],
   "source": [
    "len(o_menace.playbook)"
   ]
  },
  {
   "cell_type": "code",
   "execution_count": 8,
   "metadata": {},
   "outputs": [
    {
     "ename": "KeyError",
     "evalue": "('-', 'X', '-', 'X', '-', 'O', '-', '-', 'O', '-')",
     "output_type": "error",
     "traceback": [
      "\u001b[0;31m---------------------------------------------------------------------------\u001b[0m",
      "\u001b[0;31mKeyError\u001b[0m                                  Traceback (most recent call last)",
      "\u001b[0;32m<ipython-input-8-168b1953d632>\u001b[0m in \u001b[0;36m<module>\u001b[0;34m()\u001b[0m\n\u001b[1;32m      1\u001b[0m \u001b[0mp\u001b[0m \u001b[0;34m=\u001b[0m \u001b[0mtuple\u001b[0m\u001b[0;34m(\u001b[0m\u001b[0;34m[\u001b[0m\u001b[0;34m'-'\u001b[0m\u001b[0;34m,\u001b[0m\u001b[0;34m'X'\u001b[0m\u001b[0;34m,\u001b[0m\u001b[0;34m'-'\u001b[0m\u001b[0;34m,\u001b[0m\u001b[0;34m'X'\u001b[0m\u001b[0;34m,\u001b[0m\u001b[0;34m'-'\u001b[0m\u001b[0;34m,\u001b[0m\u001b[0;34m'O'\u001b[0m\u001b[0;34m,\u001b[0m\u001b[0;34m'-'\u001b[0m\u001b[0;34m,\u001b[0m\u001b[0;34m'-'\u001b[0m\u001b[0;34m,\u001b[0m\u001b[0;34m'O'\u001b[0m\u001b[0;34m,\u001b[0m\u001b[0;34m'-'\u001b[0m\u001b[0;34m]\u001b[0m\u001b[0;34m)\u001b[0m\u001b[0;34m\u001b[0m\u001b[0m\n\u001b[1;32m      2\u001b[0m \u001b[0;32mfor\u001b[0m \u001b[0mi\u001b[0m \u001b[0;32min\u001b[0m \u001b[0mrange\u001b[0m\u001b[0;34m(\u001b[0m\u001b[0;36m1\u001b[0m\u001b[0;34m,\u001b[0m\u001b[0;36m10\u001b[0m\u001b[0;34m)\u001b[0m\u001b[0;34m:\u001b[0m\u001b[0;34m\u001b[0m\u001b[0m\n\u001b[0;32m----> 3\u001b[0;31m     \u001b[0mprint\u001b[0m\u001b[0;34m(\u001b[0m\u001b[0mi\u001b[0m\u001b[0;34m,\u001b[0m \u001b[0;34m'\\t'\u001b[0m\u001b[0;34m,\u001b[0m \u001b[0mo_menace\u001b[0m\u001b[0;34m.\u001b[0m\u001b[0mplaybook\u001b[0m\u001b[0;34m[\u001b[0m\u001b[0mp\u001b[0m\u001b[0;34m]\u001b[0m\u001b[0;34m.\u001b[0m\u001b[0mcount\u001b[0m\u001b[0;34m(\u001b[0m\u001b[0mi\u001b[0m\u001b[0;34m)\u001b[0m\u001b[0;34m)\u001b[0m\u001b[0;34m\u001b[0m\u001b[0m\n\u001b[0m",
      "\u001b[0;31mKeyError\u001b[0m: ('-', 'X', '-', 'X', '-', 'O', '-', '-', 'O', '-')"
     ]
    }
   ],
   "source": [
    "p = tuple(['-','X','-','X','-','O','-','-','O','-'])\n",
    "for i in range(1,10):\n",
    "    print(i, '\\t', o_menace.playbook[p].count(i))"
   ]
  },
  {
   "cell_type": "code",
   "execution_count": 14,
   "metadata": {},
   "outputs": [
    {
     "data": {
      "text/plain": [
       "1"
      ]
     },
     "execution_count": 14,
     "metadata": {},
     "output_type": "execute_result"
    }
   ],
   "source": [
    "positions = ['-','-','-','-','X','O','X','-','-','-']\n",
    "from random import choice\n",
    "not_filled = [i for i,x in enumerate(positions) if x == '-']\n",
    "choice(not_filled[1:])"
   ]
  },
  {
   "cell_type": "code",
   "execution_count": 21,
   "metadata": {},
   "outputs": [
    {
     "data": {
      "text/plain": [
       "1"
      ]
     },
     "execution_count": 21,
     "metadata": {},
     "output_type": "execute_result"
    }
   ],
   "source": [
    "choice([1,2,3,4,5,6,7,8,9])"
   ]
  },
  {
   "cell_type": "code",
   "execution_count": null,
   "metadata": {},
   "outputs": [],
   "source": []
  }
 ],
 "metadata": {
  "kernelspec": {
   "display_name": "Python 3",
   "language": "python",
   "name": "python3"
  },
  "language_info": {
   "codemirror_mode": {
    "name": "ipython",
    "version": 3
   },
   "file_extension": ".py",
   "mimetype": "text/x-python",
   "name": "python",
   "nbconvert_exporter": "python",
   "pygments_lexer": "ipython3",
   "version": "3.6.5"
  }
 },
 "nbformat": 4,
 "nbformat_minor": 2
}
